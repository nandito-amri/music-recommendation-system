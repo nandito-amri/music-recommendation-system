{
 "cells": [
  {
   "cell_type": "markdown",
   "metadata": {},
   "source": [
    "<h1>Dataset Composing</h1>\n",
    "<blockquotes>Dataset from Last.FM about users' listening history</blockquotes>"
   ]
  },
  {
   "cell_type": "markdown",
   "metadata": {},
   "source": [
    "<h2>Preparation</h2>\n",
    "<blockquotes>Importing necessary modules and define some contants</blockquotes>"
   ]
  },
  {
   "cell_type": "code",
   "execution_count": 1,
   "metadata": {},
   "outputs": [
    {
     "data": {
      "text/plain": [
       "True"
      ]
     },
     "execution_count": 1,
     "metadata": {},
     "output_type": "execute_result"
    }
   ],
   "source": [
    "import os\n",
    "import pandas as pd\n",
    "\n",
    "from dotenv import load_dotenv\n",
    "load_dotenv()"
   ]
  },
  {
   "cell_type": "code",
   "execution_count": 2,
   "metadata": {},
   "outputs": [],
   "source": [
    "file_name = {\n",
    "  \"listening_history\": \"userid-timestamp-artid-artname-traid-traname.tsv\",\n",
    "  \"user_profile\": \"userid-profile.tsv\",\n",
    "  \"listening_history_parquet\": \"listening_history.snappy.parquet\",\n",
    "  \"user_profile_parquet\": \"user_data.snappy.parquet\",\n",
    "}\n",
    "\n",
    "dirname = os.getenv('DATASET_FOLDER_PATH')"
   ]
  },
  {
   "cell_type": "markdown",
   "metadata": {},
   "source": [
    "<h2>Get Listening History Dataset</h2>\n",
    "<blockquotes>Getting listening history dataset and save them in parquet file</blockquotes>"
   ]
  },
  {
   "cell_type": "code",
   "execution_count": 3,
   "metadata": {},
   "outputs": [],
   "source": [
    "filename_listening_history = os.path.join(dirname, file_name['listening_history'])\n",
    "save_listening_history = os.path.join(dirname, file_name['listening_history_parquet'])"
   ]
  },
  {
   "cell_type": "code",
   "execution_count": 4,
   "metadata": {},
   "outputs": [
    {
     "name": "stdout",
     "output_type": "stream",
     "text": [
      "Number of Records: 19,098,853\n",
      "Unique Users: 992\n",
      "Unique Artist:107,295\n"
     ]
    },
    {
     "data": {
      "text/html": [
       "<div>\n",
       "<style scoped>\n",
       "    .dataframe tbody tr th:only-of-type {\n",
       "        vertical-align: middle;\n",
       "    }\n",
       "\n",
       "    .dataframe tbody tr th {\n",
       "        vertical-align: top;\n",
       "    }\n",
       "\n",
       "    .dataframe thead th {\n",
       "        text-align: right;\n",
       "    }\n",
       "</style>\n",
       "<table border=\"1\" class=\"dataframe\">\n",
       "  <thead>\n",
       "    <tr style=\"text-align: right;\">\n",
       "      <th></th>\n",
       "      <th>user_id</th>\n",
       "      <th>timestamp</th>\n",
       "      <th>artist_id</th>\n",
       "      <th>artist_name</th>\n",
       "      <th>track_id</th>\n",
       "      <th>track_name</th>\n",
       "    </tr>\n",
       "  </thead>\n",
       "  <tbody>\n",
       "    <tr>\n",
       "      <th>16684</th>\n",
       "      <td>user_000001</td>\n",
       "      <td>2006-08-13 13:59:20+00:00</td>\n",
       "      <td>09a114d9-7723-4e14-b524-379697f6d2b5</td>\n",
       "      <td>Plaid &amp; Bob Jaroc</td>\n",
       "      <td>c4633ab1-e715-477f-8685-afa5f2058e42</td>\n",
       "      <td>The Launching Of Big Face</td>\n",
       "    </tr>\n",
       "    <tr>\n",
       "      <th>16683</th>\n",
       "      <td>user_000001</td>\n",
       "      <td>2006-08-13 14:03:29+00:00</td>\n",
       "      <td>09a114d9-7723-4e14-b524-379697f6d2b5</td>\n",
       "      <td>Plaid &amp; Bob Jaroc</td>\n",
       "      <td>bc2765af-208c-44c5-b3b0-cf597a646660</td>\n",
       "      <td>Zn Zero</td>\n",
       "    </tr>\n",
       "    <tr>\n",
       "      <th>16682</th>\n",
       "      <td>user_000001</td>\n",
       "      <td>2006-08-13 14:10:43+00:00</td>\n",
       "      <td>09a114d9-7723-4e14-b524-379697f6d2b5</td>\n",
       "      <td>Plaid &amp; Bob Jaroc</td>\n",
       "      <td>aa9c5a80-5cbe-42aa-a966-eb3cfa37d832</td>\n",
       "      <td>The Return Of Super Barrio - End Credits</td>\n",
       "    </tr>\n",
       "    <tr>\n",
       "      <th>16681</th>\n",
       "      <td>user_000001</td>\n",
       "      <td>2006-08-13 14:17:40+00:00</td>\n",
       "      <td>67fb65b5-6589-47f0-9371-8a40eb268dfb</td>\n",
       "      <td>Tommy Guerrero</td>\n",
       "      <td>d9b1c1da-7e47-4f97-a135-77260f2f559d</td>\n",
       "      <td>Mission Flats</td>\n",
       "    </tr>\n",
       "    <tr>\n",
       "      <th>16680</th>\n",
       "      <td>user_000001</td>\n",
       "      <td>2006-08-13 14:19:06+00:00</td>\n",
       "      <td>1cfbc7d1-299c-46e6-ba4c-1facb84ba435</td>\n",
       "      <td>Artful Dodger</td>\n",
       "      <td>120bb01c-03e4-465f-94a0-dce5e9fac711</td>\n",
       "      <td>What You Gonna Do?</td>\n",
       "    </tr>\n",
       "  </tbody>\n",
       "</table>\n",
       "</div>"
      ],
      "text/plain": [
       "           user_id                 timestamp  \\\n",
       "16684  user_000001 2006-08-13 13:59:20+00:00   \n",
       "16683  user_000001 2006-08-13 14:03:29+00:00   \n",
       "16682  user_000001 2006-08-13 14:10:43+00:00   \n",
       "16681  user_000001 2006-08-13 14:17:40+00:00   \n",
       "16680  user_000001 2006-08-13 14:19:06+00:00   \n",
       "\n",
       "                                  artist_id        artist_name  \\\n",
       "16684  09a114d9-7723-4e14-b524-379697f6d2b5  Plaid & Bob Jaroc   \n",
       "16683  09a114d9-7723-4e14-b524-379697f6d2b5  Plaid & Bob Jaroc   \n",
       "16682  09a114d9-7723-4e14-b524-379697f6d2b5  Plaid & Bob Jaroc   \n",
       "16681  67fb65b5-6589-47f0-9371-8a40eb268dfb     Tommy Guerrero   \n",
       "16680  1cfbc7d1-299c-46e6-ba4c-1facb84ba435      Artful Dodger   \n",
       "\n",
       "                                   track_id  \\\n",
       "16684  c4633ab1-e715-477f-8685-afa5f2058e42   \n",
       "16683  bc2765af-208c-44c5-b3b0-cf597a646660   \n",
       "16682  aa9c5a80-5cbe-42aa-a966-eb3cfa37d832   \n",
       "16681  d9b1c1da-7e47-4f97-a135-77260f2f559d   \n",
       "16680  120bb01c-03e4-465f-94a0-dce5e9fac711   \n",
       "\n",
       "                                     track_name  \n",
       "16684                 The Launching Of Big Face  \n",
       "16683                                   Zn Zero  \n",
       "16682  The Return Of Super Barrio - End Credits  \n",
       "16681                             Mission Flats  \n",
       "16680                        What You Gonna Do?  "
      ]
     },
     "execution_count": 4,
     "metadata": {},
     "output_type": "execute_result"
    }
   ],
   "source": [
    "df = pd.read_csv(\n",
    "  filename_listening_history, \n",
    "  sep='\\t', \n",
    "  header=None,\n",
    "  names=[\n",
    "    'user_id', 'timestamp', 'artist_id', 'artist_name', 'track_id', 'track_name'\n",
    "  ],\n",
    "  skiprows=[\n",
    "    2120260-1, 2446318-1, 11141081-1, 11152099-1, 11152402-1, 11882087-1, 12902539-1, 12935044-1, 17589539-1\n",
    "  ]\n",
    ")\n",
    "\n",
    "df['timestamp'] = pd.to_datetime(df.timestamp)\n",
    "df.sort_values(['user_id', 'timestamp'], ascending=True, inplace=True)\n",
    "\n",
    "print(f'Number of Records: {len(df):,}\\nUnique Users: {df.user_id.nunique()}\\nUnique Artist:{df.artist_id.nunique():,}')\n",
    "df.head(5)"
   ]
  },
  {
   "cell_type": "code",
   "execution_count": 5,
   "metadata": {},
   "outputs": [
    {
     "name": "stdout",
     "output_type": "stream",
     "text": [
      "<class 'pandas.core.frame.DataFrame'>\n",
      "Index: 19098853 entries, 16684 to 19080480\n",
      "Data columns (total 6 columns):\n",
      " #   Column       Dtype              \n",
      "---  ------       -----              \n",
      " 0   user_id      object             \n",
      " 1   timestamp    datetime64[ns, UTC]\n",
      " 2   artist_id    object             \n",
      " 3   artist_name  object             \n",
      " 4   track_id     object             \n",
      " 5   track_name   object             \n",
      "dtypes: datetime64[ns, UTC](1), object(5)\n",
      "memory usage: 1020.0+ MB\n"
     ]
    }
   ],
   "source": [
    "df.to_parquet(save_listening_history, compression='snappy', index=False)\n",
    "df.info()"
   ]
  },
  {
   "cell_type": "code",
   "execution_count": 6,
   "metadata": {},
   "outputs": [],
   "source": [
    "del df"
   ]
  },
  {
   "cell_type": "markdown",
   "metadata": {},
   "source": [
    "<h2>Get Users Information Dataset</h2>\n",
    "<blockquotes>Getting users' information dataset and save them in parquet file</blockquotes>"
   ]
  },
  {
   "cell_type": "code",
   "execution_count": 7,
   "metadata": {},
   "outputs": [],
   "source": [
    "filename_user_profile = os.path.join(dirname, file_name['user_profile'])\n",
    "save_user_profile = os.path.join(dirname, file_name['user_profile_parquet'])"
   ]
  },
  {
   "cell_type": "code",
   "execution_count": 8,
   "metadata": {},
   "outputs": [
    {
     "name": "stdout",
     "output_type": "stream",
     "text": [
      "Number of Records: 992\n"
     ]
    },
    {
     "data": {
      "text/html": [
       "<div>\n",
       "<style scoped>\n",
       "    .dataframe tbody tr th:only-of-type {\n",
       "        vertical-align: middle;\n",
       "    }\n",
       "\n",
       "    .dataframe tbody tr th {\n",
       "        vertical-align: top;\n",
       "    }\n",
       "\n",
       "    .dataframe thead th {\n",
       "        text-align: right;\n",
       "    }\n",
       "</style>\n",
       "<table border=\"1\" class=\"dataframe\">\n",
       "  <thead>\n",
       "    <tr style=\"text-align: right;\">\n",
       "      <th></th>\n",
       "      <th>user_id</th>\n",
       "      <th>gender</th>\n",
       "      <th>age</th>\n",
       "      <th>country</th>\n",
       "    </tr>\n",
       "  </thead>\n",
       "  <tbody>\n",
       "    <tr>\n",
       "      <th>0</th>\n",
       "      <td>user_000001</td>\n",
       "      <td>m</td>\n",
       "      <td>NaN</td>\n",
       "      <td>Japan</td>\n",
       "    </tr>\n",
       "    <tr>\n",
       "      <th>1</th>\n",
       "      <td>user_000002</td>\n",
       "      <td>f</td>\n",
       "      <td>NaN</td>\n",
       "      <td>Peru</td>\n",
       "    </tr>\n",
       "    <tr>\n",
       "      <th>2</th>\n",
       "      <td>user_000003</td>\n",
       "      <td>m</td>\n",
       "      <td>22.0</td>\n",
       "      <td>United States</td>\n",
       "    </tr>\n",
       "    <tr>\n",
       "      <th>3</th>\n",
       "      <td>user_000004</td>\n",
       "      <td>f</td>\n",
       "      <td>NaN</td>\n",
       "      <td>NaN</td>\n",
       "    </tr>\n",
       "    <tr>\n",
       "      <th>4</th>\n",
       "      <td>user_000005</td>\n",
       "      <td>m</td>\n",
       "      <td>NaN</td>\n",
       "      <td>Bulgaria</td>\n",
       "    </tr>\n",
       "  </tbody>\n",
       "</table>\n",
       "</div>"
      ],
      "text/plain": [
       "       user_id gender   age        country\n",
       "0  user_000001      m   NaN          Japan\n",
       "1  user_000002      f   NaN           Peru\n",
       "2  user_000003      m  22.0  United States\n",
       "3  user_000004      f   NaN            NaN\n",
       "4  user_000005      m   NaN       Bulgaria"
      ]
     },
     "execution_count": 8,
     "metadata": {},
     "output_type": "execute_result"
    }
   ],
   "source": [
    "df = pd.read_csv(\n",
    "  filename_user_profile, \n",
    "  sep='\\t', \n",
    "  header=0,\n",
    "  names=[\n",
    "    'user_id', 'gender', 'age', 'country', 'signup',\n",
    "  ],\n",
    ")\n",
    "\n",
    "df.drop('signup', axis=1, inplace=True)\n",
    "\n",
    "print(f'Number of Records: {len(df):,}')\n",
    "df.head(5)"
   ]
  },
  {
   "cell_type": "code",
   "execution_count": 9,
   "metadata": {},
   "outputs": [
    {
     "name": "stdout",
     "output_type": "stream",
     "text": [
      "<class 'pandas.core.frame.DataFrame'>\n",
      "RangeIndex: 992 entries, 0 to 991\n",
      "Data columns (total 4 columns):\n",
      " #   Column   Non-Null Count  Dtype  \n",
      "---  ------   --------------  -----  \n",
      " 0   user_id  992 non-null    object \n",
      " 1   gender   884 non-null    object \n",
      " 2   age      286 non-null    float64\n",
      " 3   country  907 non-null    object \n",
      "dtypes: float64(1), object(3)\n",
      "memory usage: 31.1+ KB\n"
     ]
    }
   ],
   "source": [
    "df.to_parquet(save_user_profile, compression='snappy', index=False)\n",
    "df.info()"
   ]
  },
  {
   "cell_type": "code",
   "execution_count": 10,
   "metadata": {},
   "outputs": [],
   "source": [
    "del df"
   ]
  }
 ],
 "metadata": {
  "kernelspec": {
   "display_name": "sklearn-env",
   "language": "python",
   "name": "python3"
  },
  "language_info": {
   "codemirror_mode": {
    "name": "ipython",
    "version": 3
   },
   "file_extension": ".py",
   "mimetype": "text/x-python",
   "name": "python",
   "nbconvert_exporter": "python",
   "pygments_lexer": "ipython3",
   "version": "3.9.6"
  }
 },
 "nbformat": 4,
 "nbformat_minor": 2
}
